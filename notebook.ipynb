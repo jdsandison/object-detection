{
 "cells": [
  {
   "cell_type": "markdown",
   "metadata": {},
   "source": [
    "## Notebook"
   ]
  },
  {
   "cell_type": "code",
   "execution_count": null,
   "metadata": {},
   "outputs": [],
   "source": [
    "import pandas as pd\n",
    "import numpy as np\n",
    "from ultralytics import YOLO\n",
    "import matplotlib.pylab as plt\n",
    "import glob\n",
    "import os\n",
    "import re"
   ]
  },
  {
   "cell_type": "code",
   "execution_count": null,
   "metadata": {},
   "outputs": [],
   "source": [
    "path = os.environ.get('MY_PATH')\n",
    "\n",
    "subset = glob.glob(path + '/data/train/images/*.jpg')\n",
    "\n",
    "def extract_number(filename):\n",
    "    match = re.search(r'(\\d+)', filename)\n",
    "    return int(match.group(0)) if match else -1\n",
    "\n",
    "subset = glob.glob(os.path.join(path, 'data/train/images/*.jpg'))\n",
    "\n",
    "# Sort the files by the number extracted from the filename\n",
    "subset = sorted(subset, key=extract_number)\n",
    "\n",
    "img1 = plt.imread(subset[1]) # image array\n",
    "\n",
    "fig, ax = plt.subplots(figsize=(10,10))\n",
    "ax.imshow(img1)"
   ]
  },
  {
   "cell_type": "code",
   "execution_count": null,
   "metadata": {},
   "outputs": [],
   "source": [
    "import cv2\n",
    "img_cv2 = cv2.imread(subset[1])"
   ]
  },
  {
   "cell_type": "code",
   "execution_count": null,
   "metadata": {},
   "outputs": [],
   "source": [
    "# Visuallising the differences between cv2 and matplotlib libraries (BGR vs RGB)\n",
    "fig, axs = plt.subplots(1,2,figsize=(10,5))\n",
    "axs[0].imshow(img_cv2)\n",
    "axs[1].imshow(img1)\n",
    "\n",
    "axs[0].axis('off')\n",
    "axs[1].axis('off')\n",
    "\n",
    "axs[0].set_title('CV2 Image')\n",
    "axs[1].set_title('Matplotlib Image')"
   ]
  },
  {
   "cell_type": "code",
   "execution_count": null,
   "metadata": {},
   "outputs": [],
   "source": [
    "# Converting from BGR to RGB\n",
    "\n",
    "img_cv2_rgb = cv2.cvtColor(img_cv2, cv2.COLOR_BGR2RGB)\n",
    "\n",
    "fig, axs = plt.subplots(1,2,figsize=(10,5))\n",
    "axs[0].imshow(img_cv2_rgb)\n",
    "axs[1].imshow(img1)\n",
    "\n",
    "axs[0].axis('off')\n",
    "axs[1].axis('off')\n",
    "\n",
    "axs[0].set_title('CV2 Image (converted)')\n",
    "axs[1].set_title('Matplotlib Image')"
   ]
  },
  {
   "cell_type": "code",
   "execution_count": null,
   "metadata": {},
   "outputs": [],
   "source": [
    "labels_path = os.path.join(path, 'data', 'train', 'labels', '*.txt')\n",
    "\n",
    "labels = glob.glob(labels_path)\n",
    "\n",
    "# Normalize the paths\n",
    "labels = [os.path.normpath(label) for label in labels]\n",
    "\n",
    "print(labels)"
   ]
  },
  {
   "cell_type": "code",
   "execution_count": null,
   "metadata": {},
   "outputs": [],
   "source": [
    "\n",
    "model = YOLO(\"yolov8n.yaml\")\n",
    "\n",
    "#results = model.train(data=\"config.yaml\", epochs=3)"
   ]
  },
  {
   "cell_type": "code",
   "execution_count": null,
   "metadata": {},
   "outputs": [],
   "source": [
    "base_path = path\n",
    "\n",
    "# Constructing the relative path to the config file\n",
    "config_path = os.path.join(base_path, 'data', 'config.yaml')\n",
    "\n",
    "# Load the YOLO model with a specific configuration\n",
    "model = YOLO(\"yolov8n.yaml\")\n",
    "\n",
    "# Train the model using the corrected configuration file\n",
    "results = model.train(data=config_path, epochs=1)\n",
    "\n",
    "print(results)\n"
   ]
  }
 ],
 "metadata": {
  "kernelspec": {
   "display_name": "Python 3",
   "language": "python",
   "name": "python3"
  },
  "language_info": {
   "codemirror_mode": {
    "name": "ipython",
    "version": 3
   },
   "file_extension": ".py",
   "mimetype": "text/x-python",
   "name": "python",
   "nbconvert_exporter": "python",
   "pygments_lexer": "ipython3",
   "version": "3.12.3"
  }
 },
 "nbformat": 4,
 "nbformat_minor": 2
}
